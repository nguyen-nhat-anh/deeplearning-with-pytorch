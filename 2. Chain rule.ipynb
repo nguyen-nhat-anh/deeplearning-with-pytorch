{
 "cells": [
  {
   "cell_type": "markdown",
   "metadata": {},
   "source": [
    "## 1. Đạo hàm của hàm hợp $g(f(x))$\n",
    "\\begin{align}\n",
    "y &= f(x) \\\\\n",
    "z &= g(y) = g(f(x))\n",
    "\\end{align}\n",
    "Cần tính đạo hàm của $z$ theo $x$?\n",
    "\n",
    "$$\\frac{dz}{dx} \\approx \\frac{g(f(x + \\Delta x)) - g(f(x))}{\\Delta x}, \\quad \\Delta x \\approx 0$$\n",
    "\n",
    "Khi $x$ dịch chuyển đi một đoạn $\\Delta x$ thì $y$ cũng dịch chuyển đi một đoạn\n",
    "\n",
    "$$\\Delta y = f(x + \\Delta x) - f(x)$$\n",
    "\n",
    "Với điều kiện $y$ biến đổi liên tục theo $x$, nếu $\\Delta x \\approx 0$ thì $\\Delta y$ cũng  $\\approx 0$. Từ đó\n",
    "\n",
    "\\begin{align}\n",
    "\\frac{dz}{dx} &\\approx \\frac{g(f(x + \\Delta x)) - g(f(x))}{\\Delta x} \\\\\n",
    "&\\approx \\frac{g(y + \\Delta y) - g(y)}{\\Delta y}\\cdot\\frac{\\Delta y}{\\Delta x}\n",
    "\\end{align}\n",
    "\n",
    "Cho $\\Delta x \\rightarrow 0$ (kéo theo $\\Delta y$ cũng $\\rightarrow 0$):\n",
    "$$\\frac{dz}{dx} = \\frac{dz}{dy} \\cdot \\frac{dy}{dx}$$\n",
    "\n",
    "(Qui tắc đạo hàm của hàm hợp/chain rule)\n",
    "\n",
    "![chainrule](resources/chainrule.png)"
   ]
  },
  {
   "cell_type": "code",
   "execution_count": 1,
   "metadata": {},
   "outputs": [],
   "source": [
    "def estimate_derivative(f, x):\n",
    "    epsilon = 1e-7\n",
    "    return (f(x + epsilon) - f(x)) / epsilon"
   ]
  },
  {
   "cell_type": "markdown",
   "metadata": {},
   "source": [
    "Ví dụ: $y = x + 1, z = y^2$\n",
    "\n",
    "* Cách 1: tính trực tiếp (không khả thi trong các trường hợp phức tạp hơn)\n",
    "\n",
    "$z = y^2 = (x + 1)^2$\n",
    "\n",
    "Từ đó\n",
    "\\begin{align}\n",
    "\\frac{dz}{dx} &\\approx \\frac{(x + \\Delta x + 1)^2 - (x + 1)^2}{\\Delta x} \\\\\n",
    "&\\approx \\frac{((x + \\Delta x)^2 + 2(x + \\Delta x) + 1) - (x^2 + 2x + 1)}{\\Delta x} \\\\\n",
    "&\\approx \\frac{(x + \\Delta x)^2 + 2\\Delta x - x^2}{\\Delta x} \\\\\n",
    "&\\approx \\frac{(x^2 + 2x\\Delta x + (\\Delta x)^2) + 2\\Delta x - x^2}{\\Delta x} \\\\\n",
    "&\\approx \\frac{2x\\Delta x + (\\Delta x)^2 + 2\\Delta x}{\\Delta x} \\\\\n",
    "&\\approx 2x + \\Delta x + 2\n",
    "\\end{align}\n",
    "\n",
    "Cho $\\Delta x \\rightarrow 0$: $\\frac{dz}{dx} = 2x + 2$\n",
    "* Cách 2: dùng chain rule\n",
    "$$\\frac{dz}{dx} = \\frac{dz}{dy} \\cdot \\frac{dy}{dx} = 2y\\cdot1 = 2(x + 1)$$"
   ]
  },
  {
   "cell_type": "code",
   "execution_count": 25,
   "metadata": {},
   "outputs": [
    {
     "name": "stdout",
     "output_type": "stream",
     "text": [
      "x = 4.5\n",
      "y = f(x) = x + 1 = 5.5\n",
      "z = g(y) = g(f(x)) = (x + 1)^2 = 30.25, derivative = 11.000000128547072\n"
     ]
    }
   ],
   "source": [
    "x = 4.5\n",
    "f = lambda x: x + 1\n",
    "g = lambda x: x**2\n",
    "composition = lambda x: g(f(x))\n",
    "print('x = {}\\ny = f(x) = x + 1 = {}'.format(x, f(x)))\n",
    "print('z = g(y) = g(f(x)) = (x + 1)^2 = {}, derivative = {}'.format(composition(x),\n",
    "                                                                    estimate_derivative(composition, x)))"
   ]
  },
  {
   "cell_type": "markdown",
   "metadata": {},
   "source": [
    "## 2. Đạo hàm của hàm hợp $h(f(x), g(x))$\n",
    "\n",
    "\\begin{align}\n",
    "u &= f(x) \\\\\n",
    "v &= g(x) \\\\\n",
    "y &= h(u, v) = h(f(x), g(x))\n",
    "\\end{align}\n",
    "Cần tính đạo hàm của $y$ theo $x$?\n",
    "![chainrule2](resources/chainrule2.png)\n",
    "\n",
    "Khi $x$ dịch chuyển đi một đoạn $\\Delta x$ thì kéo theo $u$ và $v$ dịch chuyển đi một đoạn\n",
    "\\begin{align}\n",
    "\\Delta u &= f(x + \\Delta x) - f(x) \\\\\n",
    "\\Delta v &= g(x + \\Delta x) - g(x) \n",
    "\\end{align}\n",
    "từ đó kéo theo $y$ cũng di chuyển một đoạn\n",
    "$$\\Delta y = h(u + \\Delta u, v + \\Delta v) - h(u, v)$$\n",
    "Đạo hàm của $y$ theo $x$\n",
    "\\begin{align}\n",
    "\\frac{dy}{dx} \\approx \\frac{\\Delta y}{\\Delta x} &= \\frac{h(u + \\Delta u, v + \\Delta v) - h(u, v)}{\\Delta x} \\\\\n",
    "&= \\frac{h(u + \\Delta u, v + \\Delta v) - h(u, v + \\Delta v)}{\\Delta x} + \\frac{h(u, v + \\Delta v) - h(u, v)}{\\Delta x} \\\\\n",
    "&= \\underbrace{\\frac{h(u + \\Delta u, v + \\Delta v) - h(u, v + \\Delta v)}{\\Delta u}}_{\\dfrac{\\partial y}{\\partial u}} \\cdot \\underbrace{\\frac{\\Delta u}{\\Delta x}}_{\\dfrac{du}{dx}} + \\underbrace{\\frac{h(u, v + \\Delta v) - h(u, v)}{\\Delta v}}_{\\dfrac{\\partial y}{\\partial v}} \\cdot \\underbrace{\\frac{\\Delta v}{\\Delta x}}_{\\dfrac{dv}{dx}}\\\\\n",
    "\\end{align}\n",
    "\n",
    "Cho $\\Delta x \\rightarrow 0$ thì\n",
    "$$\\frac{dy}{dx} = \\underbrace{\\dfrac{\\partial y}{\\partial u} \\cdot \\dfrac{du}{dx}}_{x \\rightarrow u \\rightarrow y} + \\underbrace{\\dfrac{\\partial y}{\\partial v} \\cdot \\dfrac{dv}{dx}}_{x \\rightarrow v \\rightarrow y}$$\n",
    "(Đạo hàm của $y$ theo $x$ = tổng các con đường đi từ $x \\rightarrow y$)"
   ]
  },
  {
   "cell_type": "code",
   "execution_count": 24,
   "metadata": {},
   "outputs": [
    {
     "name": "stdout",
     "output_type": "stream",
     "text": [
      "x = 4.5\n",
      "u = f(x) = x - 1 = 3.5\n",
      "v = g(x) = x + 1 = 5.5\n",
      "y = h(u, v) = u^2 + v^2 = 42.5, derivative = 18.000000210349754\n"
     ]
    }
   ],
   "source": [
    "x = 4.5\n",
    "f = lambda x: x - 1\n",
    "g = lambda x: x + 1\n",
    "h = lambda u, v: u**2 + v**2\n",
    "composition = lambda x: h(f(x), g(x))\n",
    "print('x = {}\\nu = f(x) = x - 1 = {}\\nv = g(x) = x + 1 = {}'.format(x, f(x), g(x)))\n",
    "print('y = h(u, v) = u^2 + v^2 = {}, derivative = {}'.format(composition(x),\n",
    "                                                             estimate_derivative(composition, x)))"
   ]
  },
  {
   "cell_type": "markdown",
   "metadata": {},
   "source": [
    "Ví dụ: \n",
    "\\begin{align}\n",
    "u &= x - 1 \\\\\n",
    "v &= x + 1 \\\\\n",
    "y &= u^2 + v^2 = (x - 1)^2 + (x + 1)^2\n",
    "\\end{align}\n",
    "Đạo hàm của $y$ theo $x$\n",
    "\\begin{align}\n",
    "\\frac{dy}{dx} &= \\frac{\\partial y}{\\partial u}\\cdot\\frac{du}{dx} + \\frac{\\partial y}{\\partial v}\\cdot\\frac{dv}{dx} \\\\\n",
    "&= 2u \\cdot 1 + 2v \\cdot 1 \\\\\n",
    "&= 2(x - 1) + 2(x + 1) = 4x\n",
    "\\end{align}"
   ]
  },
  {
   "cell_type": "markdown",
   "metadata": {},
   "source": [
    "## 3. Trường hợp 2 biến đầu vào"
   ]
  },
  {
   "cell_type": "markdown",
   "metadata": {},
   "source": [
    "Nếu có thêm một biến đầu vào $t$ nữa\n",
    "\\begin{align}\n",
    "u &= f(x, t) \\\\\n",
    "v &= g(x, t) \\\\\n",
    "y &= h(u, v)\n",
    "\\end{align}\n",
    "thì tính đạo hàm riêng của $y$ theo $x$ và theo $t$ ntn?\n",
    "![chainrule3](resources/chainrule3.png)\n",
    "Tương tự phần trên, đạo hàm riêng của $y$ theo $x$\n",
    "$$\\frac{\\partial y}{\\partial x} = \\frac{\\partial y}{\\partial u}\\cdot\\frac{\\partial u}{\\partial x} + \\frac{\\partial y}{\\partial v}\\cdot\\frac{\\partial v}{\\partial x}$$\n",
    "![chainrule4](resources/chainrule4.png)\n",
    "Đạo hàm riêng của $y$ theo $t$\n",
    "$$\\frac{\\partial y}{\\partial t} = \\frac{\\partial y}{\\partial u}\\cdot\\frac{\\partial u}{\\partial t} + \\frac{\\partial y}{\\partial v}\\cdot\\frac{\\partial v}{\\partial t}$$\n",
    "![chainrule5](resources/chainrule5.png)\n",
    "Viết gọn lại dạng vector: rename lại các biến\n",
    "\\begin{align}\n",
    "y_1 &= f(x_1, x_2) \\\\\n",
    "y_2 &= g(x_1, x_2) \\\\\n",
    "z &= h(y_1, y_2)\n",
    "\\end{align}\n",
    "![chainrule6](resources/chainrule6.png)\n",
    "Chain rule\n",
    "\\begin{align}\n",
    "\\dfrac{\\partial z}{\\partial x_1} = \\dfrac{\\partial z}{\\partial y_1}\\cdot\\dfrac{\\partial y_1}{\\partial x_1} + \\dfrac{\\partial z}{\\partial y_2}\\cdot\\dfrac{\\partial y_2}{\\partial x_1} = \n",
    "\\begin{bmatrix}\n",
    "\\dfrac{\\partial z}{\\partial y_1} & \\dfrac{\\partial z}{\\partial y_2}\n",
    "\\end{bmatrix}\n",
    "\\cdot\n",
    "\\begin{bmatrix}\n",
    "\\dfrac{\\partial y_1}{\\partial x_1} \\\\\n",
    "\\dfrac{\\partial y_2}{\\partial x_1}\n",
    "\\end{bmatrix} \\\\\n",
    "\\dfrac{\\partial z}{\\partial x_2} = \\dfrac{\\partial z}{\\partial y_1}\\cdot\\dfrac{\\partial y_1}{\\partial x_2} + \\dfrac{\\partial z}{\\partial y_2}\\cdot\\dfrac{\\partial y_2}{\\partial x_2} = \n",
    "\\begin{bmatrix}\n",
    "\\dfrac{\\partial z}{\\partial y_1} & \\dfrac{\\partial z}{\\partial y_2}\n",
    "\\end{bmatrix}\n",
    "\\cdot\n",
    "\\begin{bmatrix}\n",
    "\\dfrac{\\partial y_1}{\\partial x_2} \\\\\n",
    "\\dfrac{\\partial y_2}{\\partial x_2}\n",
    "\\end{bmatrix}\n",
    "\\end{align}\n",
    "$$ \n",
    "\\underbrace{\n",
    "\\begin{bmatrix}\n",
    "\\dfrac{\\partial z}{\\partial x_1} & \\dfrac{\\partial z}{\\partial x_2}\n",
    "\\end{bmatrix}\n",
    "}_{\\text{vector gradient $z$ theo $\\textbf{x}$}}\n",
    "=\n",
    "\\underbrace{\n",
    "\\begin{bmatrix}\n",
    "\\dfrac{\\partial z}{\\partial y_1} & \\dfrac{\\partial z}{\\partial y_2}\n",
    "\\end{bmatrix}\n",
    "}_{\\text{vector gradient $z$ theo $\\textbf{y}$}}\n",
    "\\cdot\n",
    "\\underbrace{\n",
    "\\begin{bmatrix}\n",
    "\\dfrac{\\partial y_1}{\\partial x_1} & \\dfrac{\\partial y_1}{\\partial x_2} \\\\\n",
    "\\dfrac{\\partial y_2}{\\partial x_1} & \\dfrac{\\partial y_2}{\\partial x_2}\n",
    "\\end{bmatrix}\n",
    "}_{\\text{ma trận Jacobian}}\n",
    "$$\n",
    "Kí hiệu vector gradient $z$ theo $\\textbf{x}$ là $\\dfrac{\\partial z}{\\partial \\textbf{x}}$, vector gradient $z$ theo $\\textbf{y}$ là $\\dfrac{\\partial z}{\\partial \\textbf{y}}$, ma trận Jacobian là $\\dfrac{\\partial \\textbf{y}}{\\partial \\textbf{x}}$ thì chain rule viết gọn dưới dạng\n",
    "$$\\dfrac{\\partial z}{\\partial \\textbf{x}} = \\underbrace{\\dfrac{\\partial z}{\\partial \\textbf{y}} \\cdot \\dfrac{\\partial \\textbf{y}}{\\partial \\textbf{x}}}_{\\text{nhân ma trận}}$$"
   ]
  }
 ],
 "metadata": {
  "kernelspec": {
   "display_name": "Python 3",
   "language": "python",
   "name": "python3"
  },
  "language_info": {
   "codemirror_mode": {
    "name": "ipython",
    "version": 3
   },
   "file_extension": ".py",
   "mimetype": "text/x-python",
   "name": "python",
   "nbconvert_exporter": "python",
   "pygments_lexer": "ipython3",
   "version": "3.7.3"
  }
 },
 "nbformat": 4,
 "nbformat_minor": 4
}
